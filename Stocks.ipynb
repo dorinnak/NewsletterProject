{
 "cells": [
  {
   "cell_type": "code",
   "execution_count": 2,
   "metadata": {},
   "outputs": [
    {
     "name": "stdout",
     "output_type": "stream",
     "text": [
      "yfinance.Ticker object <MSFT>\n"
     ]
    },
    {
     "data": {
      "text/plain": [
       "'\\nreturns\\n<yfinance.Ticker object at 0x1a1715e898>\\n'"
      ]
     },
     "execution_count": 2,
     "metadata": {},
     "output_type": "execute_result"
    }
   ],
   "source": [
    "import yfinance as yf\n",
    "#documentation: https://github.com/ranaroussi/yfinance\n",
    "\n",
    "\n",
    "msft = yf.Ticker(\"MSFT\")\n",
    "baba = yf.Ticker(\"BABA\")\n",
    "aapl = yf.Ticker(\"AAPL\")\n",
    "fb = yf.Ticker(\"FB\")\n",
    "amzn = yf.Ticker(\"AMZN\")\n",
    "goog = yf.Ticker(\"GOOG\")\n",
    "\n",
    "print(msft)\n",
    "\"\"\"\n",
    "returns\n",
    "<yfinance.Ticker object at 0x1a1715e898>\n",
    "\"\"\""
   ]
  },
  {
   "cell_type": "code",
   "execution_count": 3,
   "metadata": {},
   "outputs": [
    {
     "data": {
      "text/plain": [
       "{'zip': '98052',\n",
       " 'sector': 'Technology',\n",
       " 'fullTimeEmployees': 144000,\n",
       " 'longBusinessSummary': \"Microsoft Corporation develops, licenses, and supports software, services, devices, and solutions worldwide. The company's Productivity and Business Processes segment offers Office, Exchange, SharePoint, Microsoft Teams, Office 365 Security and Compliance, and Skype for Business, as well as related Client Access Licenses (CAL); and Skype, Outlook.com, and OneDrive. It also provides LinkedIn that includes Talent and marketing solutions, and subscriptions; and Dynamics 365, a set of cloud-based and on-premises business solutions for small and medium businesses, large organizations, and divisions of enterprises. The company's Intelligent Cloud segment licenses SQL and Windows Servers, Visual Studio, System Center, and related CALs; GitHub that provides a collaboration platform and code hosting service for developers; and Azure, a cloud platform. It also provides support services and Microsoft consulting services to assist customers in developing, deploying, and managing Microsoft server and desktop solutions; and training and certification to developers and IT professionals on various Microsoft products. The company's More Personal Computing segment offers Windows OEM licensing and other non-volume licensing of the Windows operating system; Windows Commercial comprising volume licensing of the Windows operating system, Windows cloud services, and other Windows commercial offerings; patent licensing; Windows Internet of Things; and MSN advertising. It also provides Microsoft Surface, PC accessories, and other intelligent devices; Gaming, including Xbox hardware, and Xbox software and services; video games and third-party video game royalties; and Search, including Bing and Microsoft advertising. The company sells its products through distributors and resellers; and directly through digital marketplaces, online stores, and retail stores. It has strategic partnerships with Humana Inc. and Nokia. The company was founded in 1975 and is headquartered in Redmond, Washington.\",\n",
       " 'city': 'Redmond',\n",
       " 'phone': '425-882-8080',\n",
       " 'state': 'WA',\n",
       " 'country': 'United States',\n",
       " 'companyOfficers': [],\n",
       " 'website': 'http://www.microsoft.com',\n",
       " 'maxAge': 1,\n",
       " 'address1': 'One Microsoft Way',\n",
       " 'fax': '425-706-7329',\n",
       " 'industry': 'Software—Infrastructure',\n",
       " 'previousClose': 149.55,\n",
       " 'regularMarketOpen': 147.49,\n",
       " 'twoHundredDayAverage': 137.79892,\n",
       " 'trailingAnnualDividendYield': 0.012637913,\n",
       " 'payoutRatio': 0.3472,\n",
       " 'volume24Hr': None,\n",
       " 'regularMarketDayHigh': 148.27,\n",
       " 'navPrice': None,\n",
       " 'averageDailyVolume10Day': 20324220,\n",
       " 'totalAssets': None,\n",
       " 'regularMarketPreviousClose': 149.55,\n",
       " 'fiftyDayAverage': 145.08,\n",
       " 'trailingAnnualDividendRate': 1.89,\n",
       " 'open': 147.49,\n",
       " 'averageVolume10days': 20324220,\n",
       " 'expireDate': None,\n",
       " 'yield': None,\n",
       " 'algorithm': None,\n",
       " 'dividendRate': 2.04,\n",
       " 'exDividendDate': 1574208000,\n",
       " 'beta': 1.229776,\n",
       " 'circulatingSupply': None,\n",
       " 'startDate': None,\n",
       " 'regularMarketDayLow': 146.65,\n",
       " 'priceHint': 2,\n",
       " 'currency': 'USD',\n",
       " 'trailingPE': 27.956602,\n",
       " 'regularMarketVolume': 7404078,\n",
       " 'lastMarket': None,\n",
       " 'maxSupply': None,\n",
       " 'openInterest': None,\n",
       " 'marketCap': 1130360864768,\n",
       " 'volumeAllCurrencies': None,\n",
       " 'strikePrice': None,\n",
       " 'averageVolume': 22529037,\n",
       " 'priceToSalesTrailing12Months': None,\n",
       " 'dayLow': 146.65,\n",
       " 'ask': 147.75,\n",
       " 'ytdReturn': None,\n",
       " 'askSize': 800,\n",
       " 'volume': 7404078,\n",
       " 'fiftyTwoWeekHigh': 152.5,\n",
       " 'forwardPE': 24.450495,\n",
       " 'fromCurrency': None,\n",
       " 'fiveYearAvgDividendYield': 2.07,\n",
       " 'fiftyTwoWeekLow': 93.96,\n",
       " 'bid': 147.76,\n",
       " 'tradeable': True,\n",
       " 'dividendYield': 0.0135,\n",
       " 'bidSize': 2200,\n",
       " 'dayHigh': 148.27,\n",
       " 'exchange': 'NMS',\n",
       " 'shortName': 'Microsoft Corporation',\n",
       " 'longName': 'Microsoft Corporation',\n",
       " 'exchangeTimezoneName': 'America/New_York',\n",
       " 'exchangeTimezoneShortName': 'EST',\n",
       " 'isEsgPopulated': True,\n",
       " 'gmtOffSetMilliseconds': '-18000000',\n",
       " 'underlyingSymbol': None,\n",
       " 'quoteType': 'EQUITY',\n",
       " 'symbol': 'MSFT',\n",
       " 'underlyingExchangeSymbol': None,\n",
       " 'headSymbol': None,\n",
       " 'messageBoardId': 'finmb_21835',\n",
       " 'uuid': 'b004b3ec-de24-385e-b2c1-923f10d3fb62',\n",
       " 'market': 'us_market',\n",
       " 'annualHoldingsTurnover': None,\n",
       " 'enterpriseToRevenue': 8.503,\n",
       " 'beta3Year': None,\n",
       " 'profitMargins': 0.31656,\n",
       " 'enterpriseToEbitda': 19.222,\n",
       " '52WeekChange': 0.33419585,\n",
       " 'morningStarRiskRating': None,\n",
       " 'forwardEps': 6.06,\n",
       " 'revenueQuarterlyGrowth': None,\n",
       " 'sharesOutstanding': 7695349760,\n",
       " 'fundInceptionDate': None,\n",
       " 'annualReportExpenseRatio': None,\n",
       " 'bookValue': 13.893,\n",
       " 'sharesShort': 62707579,\n",
       " 'sharesPercentSharesOut': 0.0082,\n",
       " 'fundFamily': None,\n",
       " 'lastFiscalYearEnd': 1561852800,\n",
       " 'heldPercentInstitutions': 0.74697995,\n",
       " 'netIncomeToCommon': 41094000640,\n",
       " 'trailingEps': 5.3,\n",
       " 'lastDividendValue': None,\n",
       " 'SandP52WeekChange': 0.11593449,\n",
       " 'priceToBook': 10.665083,\n",
       " 'heldPercentInsiders': 0.014090001,\n",
       " 'nextFiscalYearEnd': 1625011200,\n",
       " 'mostRecentQuarter': 1569801600,\n",
       " 'shortRatio': 2.73,\n",
       " 'sharesShortPreviousMonthDate': 1571097600,\n",
       " 'floatShares': 7517882784,\n",
       " 'enterpriseValue': 1103809609728,\n",
       " 'threeYearAverageReturn': None,\n",
       " 'lastSplitDate': 1045526400,\n",
       " 'lastSplitFactor': '1/2',\n",
       " 'legalType': None,\n",
       " 'morningStarOverallRating': None,\n",
       " 'earningsQuarterlyGrowth': 0.21,\n",
       " 'dateShortInterest': 1573776000,\n",
       " 'pegRatio': 1.91,\n",
       " 'lastCapGain': None,\n",
       " 'shortPercentOfFloat': 0.0083,\n",
       " 'sharesShortPriorMonth': 57149134,\n",
       " 'category': None,\n",
       " 'fiveYearAverageReturn': None}"
      ]
     },
     "execution_count": 3,
     "metadata": {},
     "output_type": "execute_result"
    }
   ],
   "source": [
    "#get stock info\n",
    "msft.info"
   ]
  },
  {
   "cell_type": "code",
   "execution_count": 4,
   "metadata": {},
   "outputs": [
    {
     "data": {
      "text/html": [
       "<div>\n",
       "<style scoped>\n",
       "    .dataframe tbody tr th:only-of-type {\n",
       "        vertical-align: middle;\n",
       "    }\n",
       "\n",
       "    .dataframe tbody tr th {\n",
       "        vertical-align: top;\n",
       "    }\n",
       "\n",
       "    .dataframe thead th {\n",
       "        text-align: right;\n",
       "    }\n",
       "</style>\n",
       "<table border=\"1\" class=\"dataframe\">\n",
       "  <thead>\n",
       "    <tr style=\"text-align: right;\">\n",
       "      <th></th>\n",
       "      <th>Open</th>\n",
       "      <th>High</th>\n",
       "      <th>Low</th>\n",
       "      <th>Close</th>\n",
       "      <th>Volume</th>\n",
       "      <th>Dividends</th>\n",
       "      <th>Stock Splits</th>\n",
       "    </tr>\n",
       "    <tr>\n",
       "      <th>Date</th>\n",
       "      <th></th>\n",
       "      <th></th>\n",
       "      <th></th>\n",
       "      <th></th>\n",
       "      <th></th>\n",
       "      <th></th>\n",
       "      <th></th>\n",
       "    </tr>\n",
       "  </thead>\n",
       "  <tbody>\n",
       "    <tr>\n",
       "      <th>2019-12-03</th>\n",
       "      <td>147.49</td>\n",
       "      <td>148.27</td>\n",
       "      <td>146.65</td>\n",
       "      <td>148.17</td>\n",
       "      <td>7404211</td>\n",
       "      <td>0</td>\n",
       "      <td>0</td>\n",
       "    </tr>\n",
       "  </tbody>\n",
       "</table>\n",
       "</div>"
      ],
      "text/plain": [
       "              Open    High     Low   Close   Volume  Dividends  Stock Splits\n",
       "Date                                                                        \n",
       "2019-12-03  147.49  148.27  146.65  148.17  7404211          0             0"
      ]
     },
     "execution_count": 4,
     "metadata": {},
     "output_type": "execute_result"
    }
   ],
   "source": [
    "msft.history(period=\"yesterday\")"
   ]
  },
  {
   "cell_type": "code",
   "execution_count": 5,
   "metadata": {},
   "outputs": [
    {
     "data": {
      "text/html": [
       "<div>\n",
       "<style scoped>\n",
       "    .dataframe tbody tr th:only-of-type {\n",
       "        vertical-align: middle;\n",
       "    }\n",
       "\n",
       "    .dataframe tbody tr th {\n",
       "        vertical-align: top;\n",
       "    }\n",
       "\n",
       "    .dataframe thead th {\n",
       "        text-align: right;\n",
       "    }\n",
       "</style>\n",
       "<table border=\"1\" class=\"dataframe\">\n",
       "  <thead>\n",
       "    <tr style=\"text-align: right;\">\n",
       "      <th></th>\n",
       "      <th>Open</th>\n",
       "      <th>High</th>\n",
       "      <th>Low</th>\n",
       "      <th>Close</th>\n",
       "      <th>Volume</th>\n",
       "      <th>Dividends</th>\n",
       "      <th>Stock Splits</th>\n",
       "    </tr>\n",
       "    <tr>\n",
       "      <th>Date</th>\n",
       "      <th></th>\n",
       "      <th></th>\n",
       "      <th></th>\n",
       "      <th></th>\n",
       "      <th></th>\n",
       "      <th></th>\n",
       "      <th></th>\n",
       "    </tr>\n",
       "  </thead>\n",
       "  <tbody>\n",
       "    <tr>\n",
       "      <th>2019-12-03</th>\n",
       "      <td>147.49</td>\n",
       "      <td>148.27</td>\n",
       "      <td>146.65</td>\n",
       "      <td>148.14</td>\n",
       "      <td>7410633</td>\n",
       "      <td>0</td>\n",
       "      <td>0</td>\n",
       "    </tr>\n",
       "  </tbody>\n",
       "</table>\n",
       "</div>"
      ],
      "text/plain": [
       "              Open    High     Low   Close   Volume  Dividends  Stock Splits\n",
       "Date                                                                        \n",
       "2019-12-03  147.49  148.27  146.65  148.14  7410633          0             0"
      ]
     },
     "execution_count": 5,
     "metadata": {},
     "output_type": "execute_result"
    }
   ],
   "source": [
    "msft.history(period=\"now\")"
   ]
  },
  {
   "cell_type": "code",
   "execution_count": 7,
   "metadata": {},
   "outputs": [
    {
     "name": "stdout",
     "output_type": "stream",
     "text": [
      "[*********************100%***********************]  6 of 6 completed\n"
     ]
    }
   ],
   "source": [
    "from pandas_datareader import data as pdr\n",
    "\n",
    "import yfinance as yf\n",
    "yf.pdr_override() # <== that's all it takes :-)\n",
    "\n",
    "# download dataframe\n",
    "data = pdr.get_data_yahoo(\"MSFT GOOG AAPL AMZN FB BABA\", period=\"now\")"
   ]
  },
  {
   "cell_type": "code",
   "execution_count": 55,
   "metadata": {},
   "outputs": [
    {
     "name": "stdout",
     "output_type": "stream",
     "text": [
      "[*********************100%***********************]  6 of 6 completed\n"
     ]
    }
   ],
   "source": [
    "import datetime as dt\n",
    "from datetime import timedelta\n",
    "from datetime import date\n",
    "\n",
    "end = date.today()\n",
    "start = end - timedelta(days=20)\n",
    "\n",
    "\n",
    "dt = pdr.get_data_yahoo(\"MSFT GOOG AAPL AMZN FB BABA\", start, end)\n",
    "\n",
    "dt_Close = dt['Close']\n",
    "\n",
    "#to get range\n",
    "#dt_Close.loc['2019-11-25':'2019-11-28']"
   ]
  },
  {
   "cell_type": "code",
   "execution_count": 56,
   "metadata": {},
   "outputs": [
    {
     "data": {
      "text/html": [
       "<div>\n",
       "<style scoped>\n",
       "    .dataframe tbody tr th:only-of-type {\n",
       "        vertical-align: middle;\n",
       "    }\n",
       "\n",
       "    .dataframe tbody tr th {\n",
       "        vertical-align: top;\n",
       "    }\n",
       "\n",
       "    .dataframe thead th {\n",
       "        text-align: right;\n",
       "    }\n",
       "</style>\n",
       "<table border=\"1\" class=\"dataframe\">\n",
       "  <thead>\n",
       "    <tr style=\"text-align: right;\">\n",
       "      <th></th>\n",
       "      <th>AAPL</th>\n",
       "      <th>AMZN</th>\n",
       "      <th>BABA</th>\n",
       "      <th>FB</th>\n",
       "      <th>GOOG</th>\n",
       "      <th>MSFT</th>\n",
       "    </tr>\n",
       "    <tr>\n",
       "      <th>Date</th>\n",
       "      <th></th>\n",
       "      <th></th>\n",
       "      <th></th>\n",
       "      <th></th>\n",
       "      <th></th>\n",
       "      <th></th>\n",
       "    </tr>\n",
       "  </thead>\n",
       "  <tbody>\n",
       "    <tr>\n",
       "      <th>2019-11-12</th>\n",
       "      <td>261.959991</td>\n",
       "      <td>1778.000000</td>\n",
       "      <td>186.970001</td>\n",
       "      <td>194.470001</td>\n",
       "      <td>1298.800049</td>\n",
       "      <td>147.070007</td>\n",
       "    </tr>\n",
       "    <tr>\n",
       "      <th>2019-11-13</th>\n",
       "      <td>264.470001</td>\n",
       "      <td>1753.109985</td>\n",
       "      <td>182.479996</td>\n",
       "      <td>193.190002</td>\n",
       "      <td>1298.000000</td>\n",
       "      <td>147.309998</td>\n",
       "    </tr>\n",
       "    <tr>\n",
       "      <th>2019-11-14</th>\n",
       "      <td>262.640015</td>\n",
       "      <td>1754.599976</td>\n",
       "      <td>182.800003</td>\n",
       "      <td>193.149994</td>\n",
       "      <td>1311.459961</td>\n",
       "      <td>148.059998</td>\n",
       "    </tr>\n",
       "    <tr>\n",
       "      <th>2019-11-15</th>\n",
       "      <td>265.760010</td>\n",
       "      <td>1739.489990</td>\n",
       "      <td>185.490005</td>\n",
       "      <td>195.100006</td>\n",
       "      <td>1334.869995</td>\n",
       "      <td>149.970001</td>\n",
       "    </tr>\n",
       "    <tr>\n",
       "      <th>2019-11-18</th>\n",
       "      <td>267.100006</td>\n",
       "      <td>1752.530029</td>\n",
       "      <td>184.610001</td>\n",
       "      <td>197.399994</td>\n",
       "      <td>1320.699951</td>\n",
       "      <td>150.339996</td>\n",
       "    </tr>\n",
       "    <tr>\n",
       "      <th>2019-11-19</th>\n",
       "      <td>266.290009</td>\n",
       "      <td>1752.790039</td>\n",
       "      <td>185.250000</td>\n",
       "      <td>199.320007</td>\n",
       "      <td>1315.459961</td>\n",
       "      <td>150.389999</td>\n",
       "    </tr>\n",
       "    <tr>\n",
       "      <th>2019-11-20</th>\n",
       "      <td>263.190002</td>\n",
       "      <td>1745.530029</td>\n",
       "      <td>182.350006</td>\n",
       "      <td>197.509995</td>\n",
       "      <td>1303.050049</td>\n",
       "      <td>149.619995</td>\n",
       "    </tr>\n",
       "    <tr>\n",
       "      <th>2019-11-21</th>\n",
       "      <td>262.010010</td>\n",
       "      <td>1734.709961</td>\n",
       "      <td>184.860001</td>\n",
       "      <td>197.929993</td>\n",
       "      <td>1301.349976</td>\n",
       "      <td>149.479996</td>\n",
       "    </tr>\n",
       "    <tr>\n",
       "      <th>2019-11-22</th>\n",
       "      <td>261.779999</td>\n",
       "      <td>1745.719971</td>\n",
       "      <td>186.779999</td>\n",
       "      <td>198.820007</td>\n",
       "      <td>1295.339966</td>\n",
       "      <td>149.589996</td>\n",
       "    </tr>\n",
       "    <tr>\n",
       "      <th>2019-11-25</th>\n",
       "      <td>266.369995</td>\n",
       "      <td>1773.839966</td>\n",
       "      <td>190.449997</td>\n",
       "      <td>199.789993</td>\n",
       "      <td>1306.689941</td>\n",
       "      <td>151.229996</td>\n",
       "    </tr>\n",
       "    <tr>\n",
       "      <th>2019-11-26</th>\n",
       "      <td>264.290009</td>\n",
       "      <td>1796.939941</td>\n",
       "      <td>194.699997</td>\n",
       "      <td>198.970001</td>\n",
       "      <td>1313.550049</td>\n",
       "      <td>152.029999</td>\n",
       "    </tr>\n",
       "    <tr>\n",
       "      <th>2019-11-27</th>\n",
       "      <td>267.839996</td>\n",
       "      <td>1818.510010</td>\n",
       "      <td>200.820007</td>\n",
       "      <td>202.000000</td>\n",
       "      <td>1312.989990</td>\n",
       "      <td>152.320007</td>\n",
       "    </tr>\n",
       "    <tr>\n",
       "      <th>2019-11-29</th>\n",
       "      <td>267.250000</td>\n",
       "      <td>1800.800049</td>\n",
       "      <td>200.000000</td>\n",
       "      <td>201.639999</td>\n",
       "      <td>1304.959961</td>\n",
       "      <td>151.380005</td>\n",
       "    </tr>\n",
       "    <tr>\n",
       "      <th>2019-12-02</th>\n",
       "      <td>264.160004</td>\n",
       "      <td>1781.599976</td>\n",
       "      <td>196.309998</td>\n",
       "      <td>199.699997</td>\n",
       "      <td>1289.920044</td>\n",
       "      <td>149.550003</td>\n",
       "    </tr>\n",
       "  </tbody>\n",
       "</table>\n",
       "</div>"
      ],
      "text/plain": [
       "                  AAPL         AMZN        BABA          FB         GOOG  \\\n",
       "Date                                                                       \n",
       "2019-11-12  261.959991  1778.000000  186.970001  194.470001  1298.800049   \n",
       "2019-11-13  264.470001  1753.109985  182.479996  193.190002  1298.000000   \n",
       "2019-11-14  262.640015  1754.599976  182.800003  193.149994  1311.459961   \n",
       "2019-11-15  265.760010  1739.489990  185.490005  195.100006  1334.869995   \n",
       "2019-11-18  267.100006  1752.530029  184.610001  197.399994  1320.699951   \n",
       "2019-11-19  266.290009  1752.790039  185.250000  199.320007  1315.459961   \n",
       "2019-11-20  263.190002  1745.530029  182.350006  197.509995  1303.050049   \n",
       "2019-11-21  262.010010  1734.709961  184.860001  197.929993  1301.349976   \n",
       "2019-11-22  261.779999  1745.719971  186.779999  198.820007  1295.339966   \n",
       "2019-11-25  266.369995  1773.839966  190.449997  199.789993  1306.689941   \n",
       "2019-11-26  264.290009  1796.939941  194.699997  198.970001  1313.550049   \n",
       "2019-11-27  267.839996  1818.510010  200.820007  202.000000  1312.989990   \n",
       "2019-11-29  267.250000  1800.800049  200.000000  201.639999  1304.959961   \n",
       "2019-12-02  264.160004  1781.599976  196.309998  199.699997  1289.920044   \n",
       "\n",
       "                  MSFT  \n",
       "Date                    \n",
       "2019-11-12  147.070007  \n",
       "2019-11-13  147.309998  \n",
       "2019-11-14  148.059998  \n",
       "2019-11-15  149.970001  \n",
       "2019-11-18  150.339996  \n",
       "2019-11-19  150.389999  \n",
       "2019-11-20  149.619995  \n",
       "2019-11-21  149.479996  \n",
       "2019-11-22  149.589996  \n",
       "2019-11-25  151.229996  \n",
       "2019-11-26  152.029999  \n",
       "2019-11-27  152.320007  \n",
       "2019-11-29  151.380005  \n",
       "2019-12-02  149.550003  "
      ]
     },
     "execution_count": 56,
     "metadata": {},
     "output_type": "execute_result"
    }
   ],
   "source": [
    "dt_Close"
   ]
  },
  {
   "cell_type": "code",
   "execution_count": 57,
   "metadata": {},
   "outputs": [
    {
     "data": {
      "text/plain": [
       "<matplotlib.axes._subplots.AxesSubplot at 0x1d11eb0c3c8>"
      ]
     },
     "execution_count": 57,
     "metadata": {},
     "output_type": "execute_result"
    },
    {
     "data": {
      "image/png": "[encoded data removed]",
      "text/plain": [
       "<Figure size 432x288 with 1 Axes>"
      ]
     },
     "metadata": {},
     "output_type": "display_data"
    }
   ],
   "source": [
    "import matplotlib.pyplot as plt\n",
    "\n",
    "#%matplotlib inline\n",
    "# Plot the close price of the AAPL\n",
    "dt_Close.plot()"
   ]
  },
  {
   "cell_type": "code",
   "execution_count": 84,
   "metadata": {},
   "outputs": [
    {
     "data": {
      "image/png": "[encoded data removed]",
      "text/plain": [
       "<Figure size 432x288 with 1 Axes>"
      ]
     },
     "metadata": {},
     "output_type": "display_data"
    }
   ],
   "source": [
    "#saves plots to local folder\n",
    "companies = []\n",
    "\n",
    "for i in dt_Close:\n",
    "    companies.append(i)\n",
    "    \n",
    "c=0\n",
    "    \n",
    "for i in companies:\n",
    "    plt.clf()\n",
    "    dt_Close[i].plot(title = i)\n",
    "    savename = i+\"_plot.png\"\n",
    "    #plt.savefig(savename)"
   ]
  },
  {
   "cell_type": "code",
   "execution_count": 78,
   "metadata": {},
   "outputs": [
    {
     "data": {
      "text/plain": [
       "array([<matplotlib.axes._subplots.AxesSubplot object at 0x000001D11D7B2F60>,\n",
       "       <matplotlib.axes._subplots.AxesSubplot object at 0x000001D11EE5E2E8>,\n",
       "       <matplotlib.axes._subplots.AxesSubplot object at 0x000001D11EDFEDD8>,\n",
       "       <matplotlib.axes._subplots.AxesSubplot object at 0x000001D11EF2F390>,\n",
       "       <matplotlib.axes._subplots.AxesSubplot object at 0x000001D11D80B908>,\n",
       "       <matplotlib.axes._subplots.AxesSubplot object at 0x000001D11D80B940>],\n",
       "      dtype=object)"
      ]
     },
     "execution_count": 78,
     "metadata": {},
     "output_type": "execute_result"
    },
    {
     "data": {
      "image/png": "[encoded data removed]",
      "text/plain": [
       "<Figure size 432x288 with 6 Axes>"
      ]
     },
     "metadata": {},
     "output_type": "display_data"
    }
   ],
   "source": [
    "dt_Close.plot(subplots=True)"
   ]
  },
  {
   "cell_type": "code",
   "execution_count": null,
   "metadata": {},
   "outputs": [],
   "source": []
  }
 ],
 "metadata": {
  "kernelspec": {
   "display_name": "Python 3",
   "language": "python",
   "name": "python3"
  },
  "language_info": {
   "codemirror_mode": {
    "name": "ipython",
    "version": 3
   },
   "file_extension": ".py",
   "mimetype": "text/x-python",
   "name": "python",
   "nbconvert_exporter": "python",
   "pygments_lexer": "ipython3",
   "version": "3.6.5"
  }
 },
 "nbformat": 4,
 "nbformat_minor": 2
}
