{
 "cells": [
  {
   "cell_type": "code",
   "execution_count": 1,
   "metadata": {},
   "outputs": [
    {
     "name": "stdout",
     "output_type": "stream",
     "text": [
      "yfinance.Ticker object <MSFT>\n"
     ]
    },
    {
     "data": {
      "text/plain": [
       "'\\nreturns\\n<yfinance.Ticker object at 0x1a1715e898>\\n'"
      ]
     },
     "execution_count": 1,
     "metadata": {},
     "output_type": "execute_result"
    }
   ],
   "source": [
    "import yfinance as yf\n",
    "#documentation: https://github.com/ranaroussi/yfinance\n",
    "\n",
    "\n",
    "msft = yf.Ticker(\"MSFT\")\n",
    "baba = yf.Ticker(\"BABA\")\n",
    "aapl = yf.Ticker(\"AAPL\")\n",
    "fb = yf.Ticker(\"FB\")\n",
    "amzn = yf.Ticker(\"AMZN\")\n",
    "goog = yf.Ticker(\"GOOG\")\n",
    "\n",
    "print(msft)\n",
    "\"\"\"\n",
    "returns\n",
    "<yfinance.Ticker object at 0x1a1715e898>\n",
    "\"\"\""
   ]
  },
  {
   "cell_type": "code",
   "execution_count": 2,
   "metadata": {},
   "outputs": [
    {
     "data": {
      "text/plain": [
       "{'zip': '98052',\n",
       " 'sector': 'Technology',\n",
       " 'fullTimeEmployees': 144000,\n",
       " 'longBusinessSummary': \"Microsoft Corporation develops, licenses, and supports software, services, devices, and solutions worldwide. The company's Productivity and Business Processes segment offers Office, Exchange, SharePoint, Microsoft Teams, Office 365 Security and Compliance, and Skype for Business, as well as related Client Access Licenses (CAL); and Skype, Outlook.com, and OneDrive. It also provides LinkedIn that includes Talent and marketing solutions, and subscriptions; and Dynamics 365, a set of cloud-based and on-premises business solutions for small and medium businesses, large organizations, and divisions of enterprises. The company's Intelligent Cloud segment licenses SQL and Windows Servers, Visual Studio, System Center, and related CALs; GitHub that provides a collaboration platform and code hosting service for developers; and Azure, a cloud platform. It also provides support services and Microsoft consulting services to assist customers in developing, deploying, and managing Microsoft server and desktop solutions; and training and certification to developers and IT professionals on various Microsoft products. The company's More Personal Computing segment offers Windows OEM licensing and other non-volume licensing of the Windows operating system; Windows Commercial comprising volume licensing of the Windows operating system, Windows cloud services, and other Windows commercial offerings; patent licensing; Windows Internet of Things; and MSN advertising. It also provides Microsoft Surface, PC accessories, and other intelligent devices; Gaming, including Xbox hardware, and Xbox software and services; video games and third-party video game royalties; and Search, including Bing and Microsoft advertising. The company sells its products through distributors and resellers; and directly through digital marketplaces, online stores, and retail stores. It has strategic partnerships with Humana Inc. and Nokia. The company was founded in 1975 and is headquartered in Redmond, Washington.\",\n",
       " 'city': 'Redmond',\n",
       " 'phone': '425-882-8080',\n",
       " 'state': 'WA',\n",
       " 'country': 'United States',\n",
       " 'companyOfficers': [],\n",
       " 'website': 'http://www.microsoft.com',\n",
       " 'maxAge': 1,\n",
       " 'address1': 'One Microsoft Way',\n",
       " 'fax': '425-706-7329',\n",
       " 'industry': 'Software—Infrastructure',\n",
       " 'previousClose': 149.85,\n",
       " 'regularMarketOpen': 150.05,\n",
       " 'twoHundredDayAverage': 138.03842,\n",
       " 'trailingAnnualDividendYield': 0.012612612,\n",
       " 'payoutRatio': 0.3472,\n",
       " 'volume24Hr': None,\n",
       " 'regularMarketDayHigh': 150.32,\n",
       " 'navPrice': None,\n",
       " 'averageDailyVolume10Day': 20465971,\n",
       " 'totalAssets': None,\n",
       " 'regularMarketPreviousClose': 149.85,\n",
       " 'fiftyDayAverage': 145.59543,\n",
       " 'trailingAnnualDividendRate': 1.89,\n",
       " 'open': 150.05,\n",
       " 'averageVolume10days': 20465971,\n",
       " 'expireDate': None,\n",
       " 'yield': None,\n",
       " 'algorithm': None,\n",
       " 'dividendRate': 2.04,\n",
       " 'exDividendDate': 1574208000,\n",
       " 'beta': 1.229776,\n",
       " 'circulatingSupply': None,\n",
       " 'startDate': None,\n",
       " 'regularMarketDayLow': 149.56,\n",
       " 'priceHint': 2,\n",
       " 'currency': 'USD',\n",
       " 'trailingPE': 28.26415,\n",
       " 'regularMarketVolume': 3403541,\n",
       " 'lastMarket': None,\n",
       " 'maxSupply': None,\n",
       " 'openInterest': None,\n",
       " 'marketCap': 1146928758784,\n",
       " 'volumeAllCurrencies': None,\n",
       " 'strikePrice': None,\n",
       " 'averageVolume': 22603654,\n",
       " 'priceToSalesTrailing12Months': None,\n",
       " 'dayLow': 149.56,\n",
       " 'ask': 149.78,\n",
       " 'ytdReturn': None,\n",
       " 'askSize': 1400,\n",
       " 'volume': 3403541,\n",
       " 'fiftyTwoWeekHigh': 152.5,\n",
       " 'forwardPE': 24.719473,\n",
       " 'fromCurrency': None,\n",
       " 'fiveYearAvgDividendYield': 2.07,\n",
       " 'fiftyTwoWeekLow': 93.96,\n",
       " 'bid': 149.79,\n",
       " 'tradeable': True,\n",
       " 'dividendYield': 0.0137,\n",
       " 'bidSize': 800,\n",
       " 'dayHigh': 150.32,\n",
       " 'exchange': 'NMS',\n",
       " 'shortName': 'Microsoft Corporation',\n",
       " 'longName': 'Microsoft Corporation',\n",
       " 'exchangeTimezoneName': 'America/New_York',\n",
       " 'exchangeTimezoneShortName': 'EST',\n",
       " 'isEsgPopulated': True,\n",
       " 'gmtOffSetMilliseconds': '-18000000',\n",
       " 'underlyingSymbol': None,\n",
       " 'quoteType': 'EQUITY',\n",
       " 'symbol': 'MSFT',\n",
       " 'underlyingExchangeSymbol': None,\n",
       " 'headSymbol': None,\n",
       " 'messageBoardId': 'finmb_21835',\n",
       " 'uuid': 'b004b3ec-de24-385e-b2c1-923f10d3fb62',\n",
       " 'market': 'us_market',\n",
       " 'annualHoldingsTurnover': None,\n",
       " 'enterpriseToRevenue': 8.413,\n",
       " 'beta3Year': None,\n",
       " 'profitMargins': 0.31656,\n",
       " 'enterpriseToEbitda': 19.019,\n",
       " '52WeekChange': 0.37237847,\n",
       " 'morningStarRiskRating': None,\n",
       " 'forwardEps': 6.06,\n",
       " 'revenueQuarterlyGrowth': None,\n",
       " 'sharesOutstanding': 7695349760,\n",
       " 'fundInceptionDate': None,\n",
       " 'annualReportExpenseRatio': None,\n",
       " 'bookValue': 13.893,\n",
       " 'sharesShort': 62707579,\n",
       " 'sharesPercentSharesOut': 0.0082,\n",
       " 'fundFamily': None,\n",
       " 'lastFiscalYearEnd': 1561852800,\n",
       " 'heldPercentInstitutions': 0.74697995,\n",
       " 'netIncomeToCommon': 41094000640,\n",
       " 'trailingEps': 5.3,\n",
       " 'lastDividendValue': None,\n",
       " 'SandP52WeekChange': 0.15460598,\n",
       " 'priceToBook': 10.782409,\n",
       " 'heldPercentInsiders': 0.014090001,\n",
       " 'nextFiscalYearEnd': 1625011200,\n",
       " 'mostRecentQuarter': 1569801600,\n",
       " 'shortRatio': 2.73,\n",
       " 'sharesShortPreviousMonthDate': 1571097600,\n",
       " 'floatShares': 7517882784,\n",
       " 'enterpriseValue': 1092137517056,\n",
       " 'threeYearAverageReturn': None,\n",
       " 'lastSplitDate': 1045526400,\n",
       " 'lastSplitFactor': '1/2',\n",
       " 'legalType': None,\n",
       " 'morningStarOverallRating': None,\n",
       " 'earningsQuarterlyGrowth': 0.21,\n",
       " 'dateShortInterest': 1573776000,\n",
       " 'pegRatio': 1.91,\n",
       " 'lastCapGain': None,\n",
       " 'shortPercentOfFloat': 0.0083,\n",
       " 'sharesShortPriorMonth': 57149134,\n",
       " 'category': None,\n",
       " 'fiveYearAverageReturn': None}"
      ]
     },
     "execution_count": 2,
     "metadata": {},
     "output_type": "execute_result"
    }
   ],
   "source": [
    "#get stock info\n",
    "msft.info"
   ]
  },
  {
   "cell_type": "code",
   "execution_count": 3,
   "metadata": {},
   "outputs": [
    {
     "data": {
      "text/html": [
       "<div>\n",
       "<style scoped>\n",
       "    .dataframe tbody tr th:only-of-type {\n",
       "        vertical-align: middle;\n",
       "    }\n",
       "\n",
       "    .dataframe tbody tr th {\n",
       "        vertical-align: top;\n",
       "    }\n",
       "\n",
       "    .dataframe thead th {\n",
       "        text-align: right;\n",
       "    }\n",
       "</style>\n",
       "<table border=\"1\" class=\"dataframe\">\n",
       "  <thead>\n",
       "    <tr style=\"text-align: right;\">\n",
       "      <th></th>\n",
       "      <th>Open</th>\n",
       "      <th>High</th>\n",
       "      <th>Low</th>\n",
       "      <th>Close</th>\n",
       "      <th>Volume</th>\n",
       "      <th>Dividends</th>\n",
       "      <th>Stock Splits</th>\n",
       "    </tr>\n",
       "    <tr>\n",
       "      <th>Date</th>\n",
       "      <th></th>\n",
       "      <th></th>\n",
       "      <th></th>\n",
       "      <th></th>\n",
       "      <th></th>\n",
       "      <th></th>\n",
       "      <th></th>\n",
       "    </tr>\n",
       "  </thead>\n",
       "  <tbody>\n",
       "    <tr>\n",
       "      <th>2019-12-05</th>\n",
       "      <td>150.05</td>\n",
       "      <td>150.32</td>\n",
       "      <td>149.56</td>\n",
       "      <td>149.81</td>\n",
       "      <td>3404141</td>\n",
       "      <td>0</td>\n",
       "      <td>0</td>\n",
       "    </tr>\n",
       "  </tbody>\n",
       "</table>\n",
       "</div>"
      ],
      "text/plain": [
       "              Open    High     Low   Close   Volume  Dividends  Stock Splits\n",
       "Date                                                                        \n",
       "2019-12-05  150.05  150.32  149.56  149.81  3404141          0             0"
      ]
     },
     "execution_count": 3,
     "metadata": {},
     "output_type": "execute_result"
    }
   ],
   "source": [
    "msft.history(period=\"yesterday\")"
   ]
  },
  {
   "cell_type": "code",
   "execution_count": 4,
   "metadata": {},
   "outputs": [
    {
     "data": {
      "text/html": [
       "<div>\n",
       "<style scoped>\n",
       "    .dataframe tbody tr th:only-of-type {\n",
       "        vertical-align: middle;\n",
       "    }\n",
       "\n",
       "    .dataframe tbody tr th {\n",
       "        vertical-align: top;\n",
       "    }\n",
       "\n",
       "    .dataframe thead th {\n",
       "        text-align: right;\n",
       "    }\n",
       "</style>\n",
       "<table border=\"1\" class=\"dataframe\">\n",
       "  <thead>\n",
       "    <tr style=\"text-align: right;\">\n",
       "      <th></th>\n",
       "      <th>Open</th>\n",
       "      <th>High</th>\n",
       "      <th>Low</th>\n",
       "      <th>Close</th>\n",
       "      <th>Volume</th>\n",
       "      <th>Dividends</th>\n",
       "      <th>Stock Splits</th>\n",
       "    </tr>\n",
       "    <tr>\n",
       "      <th>Date</th>\n",
       "      <th></th>\n",
       "      <th></th>\n",
       "      <th></th>\n",
       "      <th></th>\n",
       "      <th></th>\n",
       "      <th></th>\n",
       "      <th></th>\n",
       "    </tr>\n",
       "  </thead>\n",
       "  <tbody>\n",
       "    <tr>\n",
       "      <th>2019-12-05</th>\n",
       "      <td>150.05</td>\n",
       "      <td>150.32</td>\n",
       "      <td>149.56</td>\n",
       "      <td>149.81</td>\n",
       "      <td>3404141</td>\n",
       "      <td>0</td>\n",
       "      <td>0</td>\n",
       "    </tr>\n",
       "  </tbody>\n",
       "</table>\n",
       "</div>"
      ],
      "text/plain": [
       "              Open    High     Low   Close   Volume  Dividends  Stock Splits\n",
       "Date                                                                        \n",
       "2019-12-05  150.05  150.32  149.56  149.81  3404141          0             0"
      ]
     },
     "execution_count": 4,
     "metadata": {},
     "output_type": "execute_result"
    }
   ],
   "source": [
    "msft.history(period=\"now\")"
   ]
  },
  {
   "cell_type": "code",
   "execution_count": 5,
   "metadata": {},
   "outputs": [
    {
     "name": "stdout",
     "output_type": "stream",
     "text": [
      "[*********************100%***********************]  6 of 6 completed\n"
     ]
    }
   ],
   "source": [
    "from pandas_datareader import data as pdr\n",
    "\n",
    "import yfinance as yf\n",
    "yf.pdr_override() # <== that's all it takes :-)\n",
    "\n",
    "# download dataframe\n",
    "data = pdr.get_data_yahoo(\"MSFT GOOG AAPL AMZN FB BABA\", period=\"now\")"
   ]
  },
  {
   "cell_type": "code",
   "execution_count": 6,
   "metadata": {},
   "outputs": [
    {
     "name": "stdout",
     "output_type": "stream",
     "text": [
      "[*********************100%***********************]  6 of 6 completed\n"
     ]
    }
   ],
   "source": [
    "import datetime as dt\n",
    "from datetime import timedelta\n",
    "from datetime import date\n",
    "\n",
    "end = date.today()\n",
    "start = end - timedelta(days=20)\n",
    "\n",
    "\n",
    "df = pdr.get_data_yahoo(\"MSFT GOOG AAPL AMZN FB BABA\", start, end)\n",
    "\n",
    "df_Close = df['Close']\n",
    "\n",
    "df_Close\n",
    "\n",
    "#to get range\n",
    "#dt_Close.loc['2019-11-25':'2019-11-28']"
   ]
  },
  {
   "cell_type": "code",
   "execution_count": 9,
   "metadata": {},
   "outputs": [
    {
     "data": {
      "text/html": [
       "<div>\n",
       "<style scoped>\n",
       "    .dataframe tbody tr th:only-of-type {\n",
       "        vertical-align: middle;\n",
       "    }\n",
       "\n",
       "    .dataframe tbody tr th {\n",
       "        vertical-align: top;\n",
       "    }\n",
       "\n",
       "    .dataframe thead th {\n",
       "        text-align: right;\n",
       "    }\n",
       "</style>\n",
       "<table border=\"1\" class=\"dataframe\">\n",
       "  <thead>\n",
       "    <tr style=\"text-align: right;\">\n",
       "      <th></th>\n",
       "      <th>AAPL</th>\n",
       "      <th>AMZN</th>\n",
       "      <th>BABA</th>\n",
       "      <th>FB</th>\n",
       "      <th>GOOG</th>\n",
       "      <th>MSFT</th>\n",
       "    </tr>\n",
       "    <tr>\n",
       "      <th>Date</th>\n",
       "      <th></th>\n",
       "      <th></th>\n",
       "      <th></th>\n",
       "      <th></th>\n",
       "      <th></th>\n",
       "      <th></th>\n",
       "    </tr>\n",
       "  </thead>\n",
       "  <tbody>\n",
       "    <tr>\n",
       "      <th>2019-11-14</th>\n",
       "      <td>262.640015</td>\n",
       "      <td>1754.599976</td>\n",
       "      <td>182.800003</td>\n",
       "      <td>193.149994</td>\n",
       "      <td>1311.459961</td>\n",
       "      <td>148.059998</td>\n",
       "    </tr>\n",
       "    <tr>\n",
       "      <th>2019-11-15</th>\n",
       "      <td>265.760010</td>\n",
       "      <td>1739.489990</td>\n",
       "      <td>185.490005</td>\n",
       "      <td>195.100006</td>\n",
       "      <td>1334.869995</td>\n",
       "      <td>149.970001</td>\n",
       "    </tr>\n",
       "    <tr>\n",
       "      <th>2019-11-18</th>\n",
       "      <td>267.100006</td>\n",
       "      <td>1752.530029</td>\n",
       "      <td>184.610001</td>\n",
       "      <td>197.399994</td>\n",
       "      <td>1320.699951</td>\n",
       "      <td>150.339996</td>\n",
       "    </tr>\n",
       "    <tr>\n",
       "      <th>2019-11-19</th>\n",
       "      <td>266.290009</td>\n",
       "      <td>1752.790039</td>\n",
       "      <td>185.250000</td>\n",
       "      <td>199.320007</td>\n",
       "      <td>1315.459961</td>\n",
       "      <td>150.389999</td>\n",
       "    </tr>\n",
       "    <tr>\n",
       "      <th>2019-11-20</th>\n",
       "      <td>263.190002</td>\n",
       "      <td>1745.530029</td>\n",
       "      <td>182.350006</td>\n",
       "      <td>197.509995</td>\n",
       "      <td>1303.050049</td>\n",
       "      <td>149.619995</td>\n",
       "    </tr>\n",
       "    <tr>\n",
       "      <th>2019-11-21</th>\n",
       "      <td>262.010010</td>\n",
       "      <td>1734.709961</td>\n",
       "      <td>184.860001</td>\n",
       "      <td>197.929993</td>\n",
       "      <td>1301.349976</td>\n",
       "      <td>149.479996</td>\n",
       "    </tr>\n",
       "    <tr>\n",
       "      <th>2019-11-22</th>\n",
       "      <td>261.779999</td>\n",
       "      <td>1745.719971</td>\n",
       "      <td>186.779999</td>\n",
       "      <td>198.820007</td>\n",
       "      <td>1295.339966</td>\n",
       "      <td>149.589996</td>\n",
       "    </tr>\n",
       "    <tr>\n",
       "      <th>2019-11-25</th>\n",
       "      <td>266.369995</td>\n",
       "      <td>1773.839966</td>\n",
       "      <td>190.449997</td>\n",
       "      <td>199.789993</td>\n",
       "      <td>1306.689941</td>\n",
       "      <td>151.229996</td>\n",
       "    </tr>\n",
       "    <tr>\n",
       "      <th>2019-11-26</th>\n",
       "      <td>264.290009</td>\n",
       "      <td>1796.939941</td>\n",
       "      <td>194.699997</td>\n",
       "      <td>198.970001</td>\n",
       "      <td>1313.550049</td>\n",
       "      <td>152.029999</td>\n",
       "    </tr>\n",
       "    <tr>\n",
       "      <th>2019-11-27</th>\n",
       "      <td>267.839996</td>\n",
       "      <td>1818.510010</td>\n",
       "      <td>200.820007</td>\n",
       "      <td>202.000000</td>\n",
       "      <td>1312.989990</td>\n",
       "      <td>152.320007</td>\n",
       "    </tr>\n",
       "    <tr>\n",
       "      <th>2019-11-29</th>\n",
       "      <td>267.250000</td>\n",
       "      <td>1800.800049</td>\n",
       "      <td>200.000000</td>\n",
       "      <td>201.639999</td>\n",
       "      <td>1304.959961</td>\n",
       "      <td>151.380005</td>\n",
       "    </tr>\n",
       "    <tr>\n",
       "      <th>2019-12-02</th>\n",
       "      <td>264.160004</td>\n",
       "      <td>1781.599976</td>\n",
       "      <td>196.309998</td>\n",
       "      <td>199.699997</td>\n",
       "      <td>1289.920044</td>\n",
       "      <td>149.550003</td>\n",
       "    </tr>\n",
       "    <tr>\n",
       "      <th>2019-12-03</th>\n",
       "      <td>259.450012</td>\n",
       "      <td>1769.959961</td>\n",
       "      <td>194.899994</td>\n",
       "      <td>198.820007</td>\n",
       "      <td>1295.280029</td>\n",
       "      <td>149.309998</td>\n",
       "    </tr>\n",
       "    <tr>\n",
       "      <th>2019-12-04</th>\n",
       "      <td>261.739990</td>\n",
       "      <td>1760.689941</td>\n",
       "      <td>193.740005</td>\n",
       "      <td>198.710007</td>\n",
       "      <td>1320.540039</td>\n",
       "      <td>149.850006</td>\n",
       "    </tr>\n",
       "  </tbody>\n",
       "</table>\n",
       "</div>"
      ],
      "text/plain": [
       "                  AAPL         AMZN        BABA          FB         GOOG  \\\n",
       "Date                                                                       \n",
       "2019-11-14  262.640015  1754.599976  182.800003  193.149994  1311.459961   \n",
       "2019-11-15  265.760010  1739.489990  185.490005  195.100006  1334.869995   \n",
       "2019-11-18  267.100006  1752.530029  184.610001  197.399994  1320.699951   \n",
       "2019-11-19  266.290009  1752.790039  185.250000  199.320007  1315.459961   \n",
       "2019-11-20  263.190002  1745.530029  182.350006  197.509995  1303.050049   \n",
       "2019-11-21  262.010010  1734.709961  184.860001  197.929993  1301.349976   \n",
       "2019-11-22  261.779999  1745.719971  186.779999  198.820007  1295.339966   \n",
       "2019-11-25  266.369995  1773.839966  190.449997  199.789993  1306.689941   \n",
       "2019-11-26  264.290009  1796.939941  194.699997  198.970001  1313.550049   \n",
       "2019-11-27  267.839996  1818.510010  200.820007  202.000000  1312.989990   \n",
       "2019-11-29  267.250000  1800.800049  200.000000  201.639999  1304.959961   \n",
       "2019-12-02  264.160004  1781.599976  196.309998  199.699997  1289.920044   \n",
       "2019-12-03  259.450012  1769.959961  194.899994  198.820007  1295.280029   \n",
       "2019-12-04  261.739990  1760.689941  193.740005  198.710007  1320.540039   \n",
       "\n",
       "                  MSFT  \n",
       "Date                    \n",
       "2019-11-14  148.059998  \n",
       "2019-11-15  149.970001  \n",
       "2019-11-18  150.339996  \n",
       "2019-11-19  150.389999  \n",
       "2019-11-20  149.619995  \n",
       "2019-11-21  149.479996  \n",
       "2019-11-22  149.589996  \n",
       "2019-11-25  151.229996  \n",
       "2019-11-26  152.029999  \n",
       "2019-11-27  152.320007  \n",
       "2019-11-29  151.380005  \n",
       "2019-12-02  149.550003  \n",
       "2019-12-03  149.309998  \n",
       "2019-12-04  149.850006  "
      ]
     },
     "execution_count": 9,
     "metadata": {},
     "output_type": "execute_result"
    }
   ],
   "source": []
  },
  {
   "cell_type": "code",
   "execution_count": 8,
   "metadata": {},
   "outputs": [
    {
     "data": {
      "text/plain": [
       "<matplotlib.axes._subplots.AxesSubplot at 0x2274ba7dfd0>"
      ]
     },
     "execution_count": 8,
     "metadata": {},
     "output_type": "execute_result"
    }
   ],
   "source": [
    "import matplotlib.pyplot as plt\n",
    "\n",
    "#%matplotlib inline\n",
    "# Plot the close price of the AAPL\n",
    "df_Close.plot()"
   ]
  },
  {
   "cell_type": "code",
   "execution_count": 11,
   "metadata": {},
   "outputs": [
    {
     "data": {
      "image/png": "[encoded data removed]",
      "text/plain": [
       "<Figure size 432x288 with 1 Axes>"
      ]
     },
     "metadata": {},
     "output_type": "display_data"
    }
   ],
   "source": [
    "#saves plots to local folder\n",
    "companies = []\n",
    "\n",
    "for i in df_Close:\n",
    "    companies.append(i)\n",
    "    \n",
    "c=0\n",
    "    \n",
    "for i in companies:\n",
    "    plt.clf()\n",
    "    df_Close[i].plot(title = i)\n",
    "    savename = i+\"_plot.png\"\n",
    "    #plt.savefig(savename)"
   ]
  },
  {
   "cell_type": "code",
   "execution_count": 12,
   "metadata": {},
   "outputs": [
    {
     "data": {
      "text/plain": [
       "array([<matplotlib.axes._subplots.AxesSubplot object at 0x000002274DD539E8>,\n",
       "       <matplotlib.axes._subplots.AxesSubplot object at 0x000002274DD9A8D0>,\n",
       "       <matplotlib.axes._subplots.AxesSubplot object at 0x000002274DE413C8>,\n",
       "       <matplotlib.axes._subplots.AxesSubplot object at 0x000002274DE67940>,\n",
       "       <matplotlib.axes._subplots.AxesSubplot object at 0x000002274DE90EB8>,\n",
       "       <matplotlib.axes._subplots.AxesSubplot object at 0x000002274DE90EF0>],\n",
       "      dtype=object)"
      ]
     },
     "execution_count": 12,
     "metadata": {},
     "output_type": "execute_result"
    },
    {
     "data": {
      "image/png": "[encoded data removed]",
      "text/plain": [
       "<Figure size 432x288 with 6 Axes>"
      ]
     },
     "metadata": {},
     "output_type": "display_data"
    }
   ],
   "source": [
    "df_Close.plot(subplots=True)"
   ]
  },
  {
   "cell_type": "code",
   "execution_count": 37,
   "metadata": {},
   "outputs": [
    {
     "name": "stdout",
     "output_type": "stream",
     "text": [
      "[*********************100%***********************]  1 of 1 completed\n"
     ]
    },
    {
     "data": {
      "text/plain": [
       "Date\n",
       "2019-08-26           NaN\n",
       "2019-08-27           NaN\n",
       "2019-08-28           NaN\n",
       "2019-08-29           NaN\n",
       "2019-08-30           NaN\n",
       "                 ...    \n",
       "2019-11-27    150.099947\n",
       "2019-11-29    150.482158\n",
       "2019-12-02    150.491016\n",
       "2019-12-03    150.438998\n",
       "2019-12-04    150.436000\n",
       "Name: Adj Close, Length: 71, dtype: float64"
      ]
     },
     "execution_count": 37,
     "metadata": {},
     "output_type": "execute_result"
    }
   ],
   "source": [
    "#calculating the moving average\n",
    "\n",
    "end = date.today()\n",
    "start = end - timedelta(days=100)\n",
    "\n",
    "msft_df = pdr.get_data_yahoo(\"MSFT\", start, end)\n",
    "\n",
    "\n",
    "close_px = msft_df['Adj Close']\n",
    "mavg = close_px.rolling(window=10).mean()\n",
    "\n",
    "mavg"
   ]
  },
  {
   "cell_type": "code",
   "execution_count": 38,
   "metadata": {},
   "outputs": [
    {
     "data": {
      "text/plain": [
       "<matplotlib.legend.Legend at 0x2274f004780>"
      ]
     },
     "execution_count": 38,
     "metadata": {},
     "output_type": "execute_result"
    },
    {
     "data": {
      "image/png": "[encoded data removed]",
      "text/plain": [
       "<Figure size 576x504 with 1 Axes>"
      ]
     },
     "metadata": {},
     "output_type": "display_data"
    }
   ],
   "source": [
    "%matplotlib inline\n",
    "import matplotlib.pyplot as plt\n",
    "from matplotlib import style\n",
    "\n",
    "# Adjusting the size of matplotlib\n",
    "import matplotlib as mpl\n",
    "mpl.rc('figure', figsize=(8, 7))\n",
    "mpl.__version__\n",
    "\n",
    "# Adjusting the style of matplotlib\n",
    "style.use('ggplot')\n",
    "\n",
    "close_px.plot(label='MSFT')\n",
    "mavg.plot(label='mavg')\n",
    "plt.legend()"
   ]
  },
  {
   "cell_type": "code",
   "execution_count": 58,
   "metadata": {},
   "outputs": [],
   "source": [
    "#Getting biggest gainers for the day\n",
    "\n",
    "#!/usr/bin/env python\n",
    "try:\n",
    "    # For Python 3.0 and later\n",
    "    from urllib.request import urlopen\n",
    "except ImportError:\n",
    "    # Fall back to Python 2's urllib2\n",
    "    from urllib2 import urlopen\n",
    "\n",
    "import json\n",
    "\n",
    "def get_jsonparsed_data(url):\n",
    "    \"\"\"\n",
    "    Receive the content of \\`\\`url\\`\\`, parse it as JSON and return the object.\n",
    "\n",
    "    Parameters\n",
    "    ----------\n",
    "    url : str\n",
    "\n",
    "    Returns\n",
    "    -------\n",
    "    dict\n",
    "    \"\"\"\n",
    "    response = urlopen(url)\n",
    "    data = response.read().decode(\"utf-8\")\n",
    "    return json.loads(data)\n",
    "\n",
    "url = \"https://financialmodelingprep.com/api/v3/stock/gainers\"\n",
    "gainers = get_jsonparsed_data(url)"
   ]
  },
  {
   "cell_type": "code",
   "execution_count": 59,
   "metadata": {},
   "outputs": [],
   "source": [
    "#and biggest losers\n",
    "\n",
    "#!/usr/bin/env python\n",
    "try:\n",
    "    # For Python 3.0 and later\n",
    "    from urllib.request import urlopen\n",
    "except ImportError:\n",
    "    # Fall back to Python 2's urllib2\n",
    "    from urllib2 import urlopen\n",
    "\n",
    "import json\n",
    "\n",
    "def get_jsonparsed_data(url):\n",
    "    \"\"\"\n",
    "    Receive the content of \\`\\`url\\`\\`, parse it as JSON and return the object.\n",
    "\n",
    "    Parameters\n",
    "    ----------\n",
    "    url : str\n",
    "\n",
    "    Returns\n",
    "    -------\n",
    "    dict\n",
    "    \"\"\"\n",
    "    response = urlopen(url)\n",
    "    data = response.read().decode(\"utf-8\")\n",
    "    return json.loads(data)\n",
    "\n",
    "url = (\"https://financialmodelingprep.com/api/v3/stock/losers\")\n",
    "losers = get_jsonparsed_data(url)"
   ]
  },
  {
   "cell_type": "code",
   "execution_count": 92,
   "metadata": {},
   "outputs": [
    {
     "name": "stdout",
     "output_type": "stream",
     "text": [
      "############BIGGEST LOSERS##############\n",
      "NVR\n"
     ]
    },
    {
     "ename": "TypeError",
     "evalue": "unsupported operand type(s) for +: 'float' and 'str'",
     "output_type": "error",
     "traceback": [
      "\u001b[1;31m---------------------------------------------------------------------------\u001b[0m",
      "\u001b[1;31mTypeError\u001b[0m                                 Traceback (most recent call last)",
      "\u001b[1;32m<ipython-input-92-e20e6c5069d5>\u001b[0m in \u001b[0;36m<module>\u001b[1;34m()\u001b[0m\n\u001b[0;32m      3\u001b[0m \u001b[1;32mfor\u001b[0m \u001b[0mloser\u001b[0m \u001b[1;32min\u001b[0m \u001b[0mlosers\u001b[0m\u001b[1;33m[\u001b[0m\u001b[1;34m\"mostLoserStock\"\u001b[0m\u001b[1;33m]\u001b[0m\u001b[1;33m:\u001b[0m\u001b[1;33m\u001b[0m\u001b[0m\n\u001b[0;32m      4\u001b[0m         \u001b[0mprint\u001b[0m\u001b[1;33m(\u001b[0m\u001b[0mloser\u001b[0m\u001b[1;33m[\u001b[0m\u001b[1;34m\"ticker\"\u001b[0m\u001b[1;33m]\u001b[0m\u001b[1;33m)\u001b[0m\u001b[1;33m\u001b[0m\u001b[0m\n\u001b[1;32m----> 5\u001b[1;33m         \u001b[0mprint\u001b[0m\u001b[1;33m(\u001b[0m\u001b[0mloser\u001b[0m\u001b[1;33m[\u001b[0m\u001b[1;34m\"changes\"\u001b[0m\u001b[1;33m]\u001b[0m\u001b[1;33m+\u001b[0m \u001b[1;34m\"%\"\u001b[0m\u001b[1;33m)\u001b[0m\u001b[1;33m\u001b[0m\u001b[0m\n\u001b[0m\u001b[0;32m      6\u001b[0m \u001b[1;33m\u001b[0m\u001b[0m\n\u001b[0;32m      7\u001b[0m \u001b[0mprint\u001b[0m\u001b[1;33m(\u001b[0m\u001b[1;34m\"############BIGGEST GAINER##############\"\u001b[0m\u001b[1;33m)\u001b[0m\u001b[1;33m\u001b[0m\u001b[0m\n",
      "\u001b[1;31mTypeError\u001b[0m: unsupported operand type(s) for +: 'float' and 'str'"
     ]
    }
   ],
   "source": [
    "print(\"############BIGGEST LOSERS##############\")\n",
    "\n",
    "for loser in losers[\"mostLoserStock\"]:\n",
    "        print(loser[\"ticker\"])\n",
    "        print(loser[\"changes\"]+ \"%\")\n",
    "        \n",
    "print(\"############BIGGEST GAINER##############\")        \n",
    "        \n",
    "for gainer in gainers[\"mostGainerStock\"]:\n",
    "        print(gainer[\"ticker\"])\n",
    "        print(str(gainer[\"changes\"]) + \"%\")\n",
    "        "
   ]
  },
  {
   "cell_type": "code",
   "execution_count": 51,
   "metadata": {},
   "outputs": [
    {
     "name": "stdout",
     "output_type": "stream",
     "text": [
      "                AAPL      AMZN      BABA        FB      GOOG      MSFT\n",
      "Date                                                                  \n",
      "2019-11-14  0.000000  0.000000  0.000000  0.000000  0.000000  0.000000\n",
      "2019-11-15  0.011879 -0.008612  0.014716  0.010096  0.017850  0.012900\n",
      "2019-11-18  0.005042  0.007496 -0.004744  0.011789 -0.010615  0.002467\n",
      "2019-11-19 -0.003033  0.000148  0.003467  0.009727 -0.003968  0.000333\n",
      "2019-11-20 -0.011641 -0.004142 -0.015654 -0.009081 -0.009434 -0.005120\n",
      "2019-11-21 -0.004483 -0.006199  0.013765  0.002126 -0.001305 -0.000936\n",
      "2019-11-22 -0.000878  0.006347  0.010386  0.004497 -0.004618  0.000736\n",
      "2019-11-25  0.017534  0.016108  0.019649  0.004879  0.008762  0.010963\n",
      "2019-11-26 -0.007809  0.013023  0.022316 -0.004104  0.005250  0.005290\n",
      "2019-11-27  0.013432  0.012004  0.031433  0.015228 -0.000426  0.001908\n",
      "2019-11-29 -0.002203 -0.009739 -0.004083 -0.001782 -0.006116 -0.006171\n",
      "2019-12-02 -0.011562 -0.010662 -0.018450 -0.009621 -0.011525 -0.012089\n",
      "2019-12-03 -0.017830 -0.006533 -0.007183 -0.004407  0.004155 -0.001605\n",
      "2019-12-04  0.008826 -0.005237 -0.005952 -0.000553  0.019502  0.003617\n"
     ]
    }
   ],
   "source": [
    "# Import `numpy` as `np`\n",
    "import numpy as np\n",
    "\n",
    "# Assign `Adj Close` to `daily_close`\n",
    "#daily_close = df[['Adj Close']]\n",
    "\n",
    "# Daily returns\n",
    "daily_pct_change = df_Close.pct_change()\n",
    "\n",
    "# Replace NA values with 0\n",
    "daily_pct_change.fillna(0, inplace=True)\n",
    "\n",
    "# Inspect daily returns\n",
    "print(daily_pct_change)"
   ]
  }
 ],
 "metadata": {
  "kernelspec": {
   "display_name": "Python 3",
   "language": "python",
   "name": "python3"
  },
  "language_info": {
   "codemirror_mode": {
    "name": "ipython",
    "version": 3
   },
   "file_extension": ".py",
   "mimetype": "text/x-python",
   "name": "python",
   "nbconvert_exporter": "python",
   "pygments_lexer": "ipython3",
   "version": "3.6.5"
  }
 },
 "nbformat": 4,
 "nbformat_minor": 2
}
