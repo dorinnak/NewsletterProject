{
 "cells": [
  {
   "cell_type": "code",
   "execution_count": 1,
   "metadata": {},
   "outputs": [],
   "source": [
    "import webbrowser\n",
    "import os"
   ]
  },
  {
   "cell_type": "code",
   "execution_count": 3,
   "metadata": {},
   "outputs": [
    {
     "name": "stdout",
     "output_type": "stream",
     "text": [
      "\n"
     ]
    },
    {
     "data": {
      "text/plain": [
       "True"
      ]
     },
     "execution_count": 3,
     "metadata": {},
     "output_type": "execute_result"
    }
   ],
   "source": [
    "print ()\n",
    "f = open('helloworld.html','w')\n",
    " \n",
    "message = \"\"\"<html>\n",
    "<head>\n",
    "<img src=\"banner_short.png\" width=\"1447\" height=\"148\">\n",
    "<div align=\"center\"><p style = \"font-family:Arial;font-size:60px;font-style:bold;line-height:0px\">Daily Finance Update</p></div>\n",
    "\n",
    "<table class=\"fixed\" style=\"width:100%\">\n",
    "    <col width=\"400px\" />\n",
    "    <col width=\"400px\" />\n",
    "    <col width=\"300px\" />\n",
    "  <tr>\n",
    "    <th><p style=\"font-family:Arial;font-size:30px;line-height:30px\">News Headline #1</th>\n",
    "    <th><p style=\"font-family:Arial;font-size:30px;line-height:30px\">News Healine #2</th> \n",
    "    <th><p style=\"font-family:Arial;font-size:30px;line-height:0px\">Trending Stocks</th> \n",
    "  </tr>\n",
    "  <tr>\n",
    "    <td><p style = \"font-family:Arial;font-size:15px;font-style:bold;line-height:20px\">\n",
    "    Todays news is about some quarterly earnings report a big company posted online. \n",
    "    This is just an example of how a headline text could look. But this will vary on a day to day basis.\n",
    "    Todays news is about some quarterly earnings report a big company posted online. \n",
    "    This is just an example of how a headline text could look. But this will vary on a day to day basis.\n",
    "    Todays news is about some quarterly earnings report a big company posted online. \n",
    "    This is just an example of how a headline text could look. But this will vary on a day to day basis.</td>\n",
    "    <td><p style = \"font-family:Arial;font-size:15px;font-style:bold;line-height:20px\">\n",
    "    Todays news is about some quarterly earnings report a big company posted online. \n",
    "    This is just an example of how a headline text could look. But this will vary on a day to day basis.\n",
    "    Todays news is about some quarterly earnings report a big company posted online. \n",
    "    This is just an example of how a headline text could look. But this will vary on a day to day basis.\n",
    "    Todays news is about some quarterly earnings report a big company posted online. \n",
    "    This is just an example of how a headline text could look. But this will vary on a day to day basis.</td>\n",
    "    <td> <table class=\"fixed\" style=\"width:100%\">\n",
    "    <col width=\"80px\" />\n",
    "    <col width=\"100px\" />\n",
    "    <col width=\"70px\" />\n",
    "    <col width=\"50px\" />\n",
    "       <tr>       \n",
    "       <td><p style = \"font-family:Arial;font-size:15px;font-style:bold;line-height:60px\">Stock</td>\n",
    "       <td><p style = \"font-family:Arial;font-size:15px;font-style:bold;line-height:60px\">Last Price</td>\n",
    "       <td><p style = \"font-family:Arial;font-size:15px;font-style:bold;line-height:60px\">Change</td>\n",
    "       <td><p style = \"font-family:Arial;font-size:15px;font-style:bold;line-height:60px\">% Change</td>\n",
    "       </tr>\n",
    "       <tr>       \n",
    "       <td><p style = \"font-family:Arial;font-size:15px;font-style:bold;line-height:20px\">AAPL</td>\n",
    "       <td><p style = \"font-family:Arial;font-size:15px;font-style:bold;line-height:20px\">235.65 USD</td>\n",
    "       <td><p style = \"font-family:Arial;font-size:15px;font-style:bold;line-height:20px\">-0.17</td>\n",
    "       <td><p style = \"font-family:Arial;font-size:15px;font-style:bold;line-height:20px\">-0.08%</td>\n",
    "       </tr>\n",
    "       <tr>       \n",
    "       <td><p style = \"font-family:Arial;font-size:15px;font-style:bold;line-height:20px\">MSFT</td>\n",
    "       <td><p style = \"font-family:Arial;font-size:15px;font-style:bold;line-height:20px\">141.46 USD</td>\n",
    "       <td><p style = \"font-family:Arial;font-size:15px;font-style:bold;line-height:20px\">+1.91</td>\n",
    "       <td><p style = \"font-family:Arial;font-size:15px;font-style:bold;line-height:20px\">+1.37%</td>\n",
    "       </tr>\n",
    "       <tr>       \n",
    "       <td><p style = \"font-family:Arial;font-size:15px;font-style:bold;line-height:20px\">XYZ</td>\n",
    "       <td><p style = \"font-family:Arial;font-size:15px;font-style:bold;line-height:20px\">14.46 USD</td>\n",
    "       <td><p style = \"font-family:Arial;font-size:15px;font-style:bold;line-height:20px\">+30.91</td>\n",
    "       <td><p style = \"font-family:Arial;font-size:15px;font-style:bold;line-height:20px\">+70.37%</td>\n",
    "       </tr>\n",
    "       <tr>       \n",
    "       <td><p style = \"font-family:Arial;font-size:15px;font-style:bold;line-height:20px\">XYZ</td>\n",
    "       <td><p style = \"font-family:Arial;font-size:15px;font-style:bold;line-height:20px\">14.46 USD</td>\n",
    "       <td><p style = \"font-family:Arial;font-size:15px;font-style:bold;line-height:20px\">+30.91</td>\n",
    "       <td><p style = \"font-family:Arial;font-size:15px;font-style:bold;line-height:20px\">+70.37%</td>\n",
    "       </tr>\n",
    "       <tr>       \n",
    "       <td><p style = \"font-family:Arial;font-size:15px;font-style:bold;line-height:20px\">XYZ</td>\n",
    "       <td><p style = \"font-family:Arial;font-size:15px;font-style:bold;line-height:20px\">14.46 USD</td>\n",
    "       <td><p style = \"font-family:Arial;font-size:15px;font-style:bold;line-height:20px\">+30.91</td>\n",
    "       <td><p style = \"font-family:Arial;font-size:15px;font-style:bold;line-height:20px\">+70.37%</td>\n",
    "       </tr>\n",
    "    </td> </table>\n",
    "</table>\n",
    "<p> </p>\n",
    "<table class=\"fixed\" style=\"width:100%\">\n",
    "    <col width=\"400px\" />\n",
    "    <col width=\"400px\" />\n",
    "    <col width=\"300px\" />\n",
    "  <tr>\n",
    "    <th><p style=\"font-family:Arial;font-size:30px;line-height:30px\">News Headline #3</th>\n",
    "    <th><p style=\"font-family:Arial;font-size:30px;line-height:30px\">News Healine #4</th> \n",
    "    <th><p style=\"font-family:Arial;font-size:30px;line-height:0px\">Additionnal readings</th> \n",
    "  </tr>\n",
    "  <tr>\n",
    "    <th><p style=\"font-family:Arial;font-size:30px;line-height:30px\">News Headline #3</th>\n",
    "    <th><p style=\"font-family:Arial;font-size:30px;line-height:30px\">News Healine #4</th> \n",
    "    <th><p style=\"font-family:Arial;font-size:30px;line-height:0px\">Additionnal readings</th> \n",
    "  </tr>\n",
    "</table>\n",
    "\n",
    "\n",
    "</head>\n",
    "</body>\n",
    "</html>\n",
    "\n",
    "\n",
    "\n",
    "\n",
    "\n",
    "</html>\"\"\"\n",
    " \n",
    "f.write(message)\n",
    "f.close()\n",
    "\n",
    "#Change path to reflect file location\n",
    "filename = 'file:///'+os.getcwd()+'/' + 'helloworld.html'\n",
    "webbrowser.open_new_tab(filename)"
   ]
  },
  {
   "cell_type": "code",
   "execution_count": null,
   "metadata": {},
   "outputs": [],
   "source": []
  }
 ],
 "metadata": {
  "kernelspec": {
   "display_name": "Python 3",
   "language": "python",
   "name": "python3"
  },
  "language_info": {
   "codemirror_mode": {
    "name": "ipython",
    "version": 3
   },
   "file_extension": ".py",
   "mimetype": "text/x-python",
   "name": "python",
   "nbconvert_exporter": "python",
   "pygments_lexer": "ipython3",
   "version": "3.7.3"
  }
 },
 "nbformat": 4,
 "nbformat_minor": 2
}
