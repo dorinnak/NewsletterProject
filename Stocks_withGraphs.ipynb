{
 "cells": [
  {
   "cell_type": "code",
   "execution_count": null,
   "metadata": {},
   "outputs": [],
   "source": [
    "import yfinance as yf\n",
    "#documentation: https://github.com/ranaroussi/yfinance\n",
    "\n",
    "\n",
    "msft = yf.Ticker(\"MSFT\")\n",
    "baba = yf.Ticker(\"BABA\")\n",
    "aapl = yf.Ticker(\"AAPL\")\n",
    "fb = yf.Ticker(\"FB\")\n",
    "amzn = yf.Ticker(\"AMZN\")\n",
    "goog = yf.Ticker(\"GOOG\")\n",
    "\n",
    "print(msft)\n",
    "\"\"\"\n",
    "returns\n",
    "<yfinance.Ticker object at 0x1a1715e898>\n",
    "\"\"\""
   ]
  },
  {
   "cell_type": "code",
   "execution_count": null,
   "metadata": {},
   "outputs": [],
   "source": [
    "#get stock info\n",
    "msft.info"
   ]
  },
  {
   "cell_type": "code",
   "execution_count": null,
   "metadata": {},
   "outputs": [],
   "source": [
    "msft.history(period=\"yesterday\")"
   ]
  },
  {
   "cell_type": "code",
   "execution_count": null,
   "metadata": {},
   "outputs": [],
   "source": [
    "msft.history(period=\"now\")"
   ]
  },
  {
   "cell_type": "code",
   "execution_count": null,
   "metadata": {},
   "outputs": [],
   "source": [
    "from pandas_datareader import data as pdr\n",
    "\n",
    "import yfinance as yf\n",
    "yf.pdr_override() # <== that's all it takes :-)\n",
    "\n",
    "# download dataframe\n",
    "data = pdr.get_data_yahoo(\"MSFT GOOG AAPL AMZN FB BABA\", period=\"now\")"
   ]
  },
  {
   "cell_type": "code",
   "execution_count": 29,
   "metadata": {},
   "outputs": [
    {
     "ename": "NameError",
     "evalue": "name 'pdr' is not defined",
     "output_type": "error",
     "traceback": [
      "\u001b[1;31m---------------------------------------------------------------------------\u001b[0m",
      "\u001b[1;31mNameError\u001b[0m                                 Traceback (most recent call last)",
      "\u001b[1;32m<ipython-input-29-708966344d19>\u001b[0m in \u001b[0;36m<module>\u001b[1;34m()\u001b[0m\n\u001b[0;32m      7\u001b[0m \u001b[1;33m\u001b[0m\u001b[0m\n\u001b[0;32m      8\u001b[0m \u001b[1;33m\u001b[0m\u001b[0m\n\u001b[1;32m----> 9\u001b[1;33m \u001b[0mdf\u001b[0m \u001b[1;33m=\u001b[0m \u001b[0mpdr\u001b[0m\u001b[1;33m.\u001b[0m\u001b[0mget_data_yahoo\u001b[0m\u001b[1;33m(\u001b[0m\u001b[1;34m\"MSFT GOOG AAPL AMZN FB BABA\"\u001b[0m\u001b[1;33m,\u001b[0m \u001b[0mstart\u001b[0m\u001b[1;33m,\u001b[0m \u001b[0mend\u001b[0m\u001b[1;33m)\u001b[0m\u001b[1;33m\u001b[0m\u001b[0m\n\u001b[0m\u001b[0;32m     10\u001b[0m \u001b[1;33m\u001b[0m\u001b[0m\n\u001b[0;32m     11\u001b[0m \u001b[0mdf_Close\u001b[0m \u001b[1;33m=\u001b[0m \u001b[0mdf\u001b[0m\u001b[1;33m[\u001b[0m\u001b[1;34m'Close'\u001b[0m\u001b[1;33m]\u001b[0m\u001b[1;33m\u001b[0m\u001b[0m\n",
      "\u001b[1;31mNameError\u001b[0m: name 'pdr' is not defined"
     ]
    }
   ],
   "source": [
    "import datetime as dt\n",
    "from datetime import timedelta\n",
    "from datetime import date\n",
    "\n",
    "end = date.today()\n",
    "start = end - timedelta(days=20)\n",
    "\n",
    "\n",
    "df = pdr.get_data_yahoo(\"MSFT GOOG AAPL AMZN FB BABA\", start, end)\n",
    "\n",
    "df_Close = df['Close']\n",
    "\n",
    "df_Close\n",
    "\n",
    "#to get range\n",
    "#dt_Close.loc['2019-11-25':'2019-11-28']"
   ]
  },
  {
   "cell_type": "code",
   "execution_count": null,
   "metadata": {},
   "outputs": [],
   "source": [
    "import matplotlib.pyplot as plt\n",
    "\n",
    "#%matplotlib inline\n",
    "# Plot the close price of the AAPL\n",
    "df_Close.plot()"
   ]
  },
  {
   "cell_type": "code",
   "execution_count": null,
   "metadata": {},
   "outputs": [],
   "source": [
    "#saves plots to local folder\n",
    "companies = []\n",
    "\n",
    "for i in df_Close:\n",
    "    companies.append(i)\n",
    "    \n",
    "c=0\n",
    "    \n",
    "for i in companies:\n",
    "    plt.clf()\n",
    "    df_Close[i].plot(title = i)\n",
    "    savename = i+\"_plot.png\"\n",
    "    #plt.savefig(savename)"
   ]
  },
  {
   "cell_type": "code",
   "execution_count": null,
   "metadata": {},
   "outputs": [],
   "source": [
    "df_Close.plot(subplots=True)"
   ]
  },
  {
   "cell_type": "code",
   "execution_count": null,
   "metadata": {},
   "outputs": [],
   "source": [
    "#calculating the moving average\n",
    "\n",
    "end = date.today()\n",
    "start = end - timedelta(days=100)\n",
    "\n",
    "msft_df = pdr.get_data_yahoo(\"MSFT\", start, end)\n",
    "\n",
    "\n",
    "close_px = msft_df['Adj Close']\n",
    "mavg = close_px.rolling(window=10).mean()\n",
    "\n",
    "mavg"
   ]
  },
  {
   "cell_type": "code",
   "execution_count": null,
   "metadata": {},
   "outputs": [],
   "source": [
    "%matplotlib inline\n",
    "import matplotlib.pyplot as plt\n",
    "from matplotlib import style\n",
    "\n",
    "# Adjusting the size of matplotlib\n",
    "import matplotlib as mpl\n",
    "mpl.rc('figure', figsize=(8, 7))\n",
    "mpl.__version__\n",
    "\n",
    "# Adjusting the style of matplotlib\n",
    "style.use('ggplot')\n",
    "\n",
    "close_px.plot(label='MSFT')\n",
    "mavg.plot(label='mavg')\n",
    "plt.legend()"
   ]
  },
  {
   "cell_type": "markdown",
   "metadata": {},
   "source": [
    "# Returns biggest losers and gainers"
   ]
  },
  {
   "cell_type": "code",
   "execution_count": 2,
   "metadata": {},
   "outputs": [],
   "source": [
    "#Getting biggest gainers for the day\n",
    "\n",
    "#!/usr/bin/env python\n",
    "try:\n",
    "    # For Python 3.0 and later\n",
    "    from urllib.request import urlopen\n",
    "except ImportError:\n",
    "    # Fall back to Python 2's urllib2\n",
    "    from urllib2 import urlopen\n",
    "\n",
    "import json\n",
    "\n",
    "def get_jsonparsed_data(url):\n",
    "\n",
    "    response = urlopen(url)\n",
    "    data = response.read().decode(\"utf-8\")\n",
    "    return json.loads(data)\n",
    "\n",
    "url = \"https://financialmodelingprep.com/api/v3/stock/gainers\"\n",
    "gainers = get_jsonparsed_data(url)"
   ]
  },
  {
   "cell_type": "code",
   "execution_count": 3,
   "metadata": {},
   "outputs": [],
   "source": [
    "#and biggest losers\n",
    "\n",
    "#!/usr/bin/env python\n",
    "try:\n",
    "    # For Python 3.0 and later\n",
    "    from urllib.request import urlopen\n",
    "except ImportError:\n",
    "    # Fall back to Python 2's urllib2\n",
    "    from urllib2 import urlopen\n",
    "\n",
    "import json\n",
    "\n",
    "def get_jsonparsed_data(url):\n",
    "\n",
    "    response = urlopen(url)\n",
    "    data = response.read().decode(\"utf-8\")\n",
    "    return json.loads(data)\n",
    "\n",
    "url = (\"https://financialmodelingprep.com/api/v3/stock/losers\")\n",
    "losers = get_jsonparsed_data(url)"
   ]
  },
  {
   "cell_type": "code",
   "execution_count": 4,
   "metadata": {},
   "outputs": [
    {
     "name": "stdout",
     "output_type": "stream",
     "text": [
      "############BIGGEST LOSERS##############\n",
      "SEB\n",
      "-23.16\n",
      "GHC\n",
      "-3.76\n",
      "NWLI\n",
      "-2.98\n",
      "AZO\n",
      "-2.89\n",
      "MKTX\n",
      "-2.49\n",
      "NEU\n",
      "-2.38\n",
      "FCNCA\n",
      "-1.67\n",
      "CABO\n",
      "-1.56\n",
      "SHW\n",
      "-1.49\n",
      "LGND\n",
      "-1.41\n",
      "############BIGGEST GAINER##############\n",
      "NVR\n",
      "15.03\n",
      "WTM\n",
      "8.31\n",
      "TPL\n",
      "8.06\n",
      "RUSL\n",
      "5.75\n",
      "CSGP\n",
      "3.54\n",
      "FLRU\n",
      "3.15\n",
      "TSLA\n",
      "1.59\n",
      "IAC\n",
      "1.41\n",
      "AE\n",
      "1.35\n",
      "MSG\n",
      "1.33\n"
     ]
    }
   ],
   "source": [
    "print(\"############BIGGEST LOSERS##############\")\n",
    "\n",
    "for loser in losers[\"mostLoserStock\"]:\n",
    "        print(loser[\"ticker\"])\n",
    "        print(str(loser[\"changes\"]))\n",
    "        \n",
    "print(\"############BIGGEST GAINERS##############\")        \n",
    "        \n",
    "for gainer in gainers[\"mostGainerStock\"]:\n",
    "        print(gainer[\"ticker\"])\n",
    "        print(str(gainer[\"changes\"]))"
   ]
  },
  {
   "cell_type": "markdown",
   "metadata": {},
   "source": [
    "# Creates graphs for the biggest losers and gainers"
   ]
  },
  {
   "cell_type": "code",
   "execution_count": 36,
   "metadata": {},
   "outputs": [
    {
     "data": {
      "image/png": "[encoded data removed]",
      "text/plain": [
       "<Figure size 432x288 with 1 Axes>"
      ]
     },
     "metadata": {},
     "output_type": "display_data"
    },
    {
     "data": {
      "image/png": "[encoded data removed]",
      "text/plain": [
       "<Figure size 432x288 with 1 Axes>"
      ]
     },
     "metadata": {},
     "output_type": "display_data"
    }
   ],
   "source": [
    "import pandas as pd\n",
    "from pandas.io.json import json_normalize\n",
    "import matplotlib.pyplot as plt\n",
    "from matplotlib import style\n",
    "from datetime import date\n",
    "\n",
    "\n",
    "#remove if added to other code\n",
    "today = str(date.today())\n",
    "\n",
    "\n",
    "#names of biggest loser and gainer companies\n",
    "loser = next(iter(losers.values()))[0].get('ticker')\n",
    "gainer = next(iter(gainers.values()))[0].get('ticker')\n",
    "\n",
    "#creates urls to access historical data of respective companies\n",
    "loser_url = (\"https://financialmodelingprep.com/api/v3/historical-price-full/\"+ loser +\"?timeseries=30\")\n",
    "gainer_url = (\"https://financialmodelingprep.com/api/v3/historical-price-full/\"+ gainer +\"?timeseries=30\")\n",
    "names = [\"loser\", \"gainer\"]\n",
    "c = 0\n",
    "\n",
    "#creates respective graphs for the close values of the last 30 days of the companies and saves it as png\n",
    "for i in loser_url, gainer_url:\n",
    "    response = urlopen(i)\n",
    "    data = response.read()\n",
    "    hist = json.loads(data)\n",
    "    hist.get(\"historical\")\n",
    "    df = pd.DataFrame(hist.get(\"historical\"))\n",
    "    df[\"date\"] = pd.to_datetime(df[\"date\"])\n",
    "    df = df[[\"date\",\"close\"]].copy()\n",
    "    df.set_index('date', inplace=True)\n",
    "    df.plot()\n",
    "    #uncomment next two rows if you dont want axes included in the graph\n",
    "    #fig = plt.yticks([])\n",
    "    #fig = plt.xticks([])\n",
    "    fig = plt.gcf()\n",
    "    savename = today + \"_\" + names[c] + \"_plot.png\"\n",
    "    fig.savefig(savename, bbox_inches='tight')\n",
    "    c =+ 1\n",
    "\n"
   ]
  }
 ],
 "metadata": {
  "kernelspec": {
   "display_name": "Python 3",
   "language": "python",
   "name": "python3"
  },
  "language_info": {
   "codemirror_mode": {
    "name": "ipython",
    "version": 3
   },
   "file_extension": ".py",
   "mimetype": "text/x-python",
   "name": "python",
   "nbconvert_exporter": "python",
   "pygments_lexer": "ipython3",
   "version": "3.6.5"
  }
 },
 "nbformat": 4,
 "nbformat_minor": 2
}
